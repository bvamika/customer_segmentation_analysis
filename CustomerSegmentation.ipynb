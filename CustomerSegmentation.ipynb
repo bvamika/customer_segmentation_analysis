{
 "cells": [
  {
   "cell_type": "code",
   "execution_count": null,
   "id": "cc74c01d",
   "metadata": {
    "is_executing": true
   },
   "outputs": [],
   "source": [
    "import pandas as pd\n",
    "import numpy as np\n",
    "import matplotlib.pyplot as plt\n",
    "import seaborn as sns\n",
    "import datetime\n",
    "from sklearn import cluster\n",
    "from sklearn.preprocessing import StandardScaler\n",
    "from sklearn.ensemble import IsolationForest\n",
    "from sklearn.datasets import make_blobs\n",
    "from sklearn.metrics import silhouette_samples, silhouette_score\n",
    "import matplotlib.cm as cm\n",
    "from sklearn import preprocessing"
   ]
  },
  {
   "cell_type": "markdown",
   "id": "19965f41",
   "metadata": {},
   "source": [
    "\n"
   ]
  },
  {
   "cell_type": "markdown",
   "id": "483d00d0",
   "metadata": {},
   "source": [
    "# I. Import Data"
   ]
  },
  {
   "cell_type": "code",
   "execution_count": 2,
   "id": "f98dd7d7",
   "metadata": {},
   "outputs": [],
   "source": [
    "or_dat = pd.read_csv('data/orders_dataset.csv',sep=',')\n",
    "or_item = pd.read_csv('data/order_items_dataset.csv',sep=',')\n",
    "cust = pd.read_csv('data/customers_dataset.csv',sep=',')\n",
    "or_pay = pd.read_csv('data/order_payments_dataset.csv',sep=',')\n",
    "or_review = pd.read_csv('data/order_reviews_dataset.csv',sep=',')\n",
    "products = pd.read_csv('data/products_dataset.csv',sep=',')\n",
    "pro_category= pd.read_csv('data/product_category_name_translation.csv',sep=',')\n",
    "geo = pd.read_csv('data/geolocation_dataset.csv',sep=',')\n",
    "sell =pd.read_csv('data/sellers_dataset.csv',sep=',')"
   ]
  },
  {
   "cell_type": "code",
   "execution_count": null,
   "id": "f0cdaa27",
   "metadata": {},
   "outputs": [],
   "source": [
    "or_dat.head()"
   ]
  },
  {
   "cell_type": "code",
   "execution_count": null,
   "id": "464e8131",
   "metadata": {},
   "outputs": [],
   "source": [
    "cust.head()"
   ]
  },
  {
   "cell_type": "code",
   "execution_count": null,
   "id": "05cee275",
   "metadata": {},
   "outputs": [],
   "source": [
    "or_item.head()"
   ]
  },
  {
   "cell_type": "markdown",
   "id": "ab5f0f21",
   "metadata": {},
   "source": [
    "# II. Pre-Processing\n",
    "----\n",
    "The first step in this processing is *Join Data*. To facilitate analysis, the data is first combined into a dataset.\n",
    "\n",
    "## 1. Join Data\n",
    "\n",
    "This step begins with first analyzing the variables contained in each dataset."
   ]
  },
  {
   "cell_type": "code",
   "execution_count": null,
   "id": "dadd046c",
   "metadata": {},
   "outputs": [],
   "source": [
    "or_dat.info()"
   ]
  },
  {
   "cell_type": "code",
   "execution_count": null,
   "id": "404701ef",
   "metadata": {},
   "outputs": [],
   "source": [
    "cust.info()"
   ]
  },
  {
   "cell_type": "markdown",
   "id": "af401d35",
   "metadata": {},
   "source": [
    "In the *customer* dataset there are five variables, which have the following roles:\n",
    "\n",
    "\n",
    "1. customer_id: id number of each customer\n",
    "2. customer_unique_id: unique id number of each customer\n",
    "3. customer_zip_code_prefix: the first three digits of the customer's zip code address\n",
    "4. customer_city: city of the customer's address\n",
    "5. customer_state: the state of the customer's address"
   ]
  },
  {
   "cell_type": "code",
   "execution_count": 8,
   "id": "6712c70e",
   "metadata": {},
   "outputs": [
    {
     "name": "stdout",
     "output_type": "stream",
     "text": [
      "<class 'pandas.core.frame.DataFrame'>\n",
      "RangeIndex: 112650 entries, 0 to 112649\n",
      "Data columns (total 7 columns):\n",
      " #   Column               Non-Null Count   Dtype  \n",
      "---  ------               --------------   -----  \n",
      " 0   order_id             112650 non-null  object \n",
      " 1   order_item_id        112650 non-null  int64  \n",
      " 2   product_id           112650 non-null  object \n",
      " 3   seller_id            112650 non-null  object \n",
      " 4   shipping_limit_date  112650 non-null  object \n",
      " 5   price                112650 non-null  float64\n",
      " 6   freight_value        112650 non-null  float64\n",
      "dtypes: float64(2), int64(1), object(4)\n",
      "memory usage: 6.0+ MB\n"
     ]
    }
   ],
   "source": [
    "or_item.info()"
   ]
  },
  {
   "cell_type": "markdown",
   "id": "41ea4789",
   "metadata": {},
   "source": [
    "In the *product* dataset there are seven variables, which have the following roles:\n",
    "\n",
    "\n",
    "1. order_id: id number of each order\n",
    "2. order_item_id: id number of each item in an order\n",
    "3. product_id: id number of each product\n",
    "4. seller_id: id number of each seller\n",
    "5. shipping_limit_date: time limit until order delivery\n",
    "6. price: total order price for each order\n",
    "7. freight_value: the price of shipping goods for each order"
   ]
  },
  {
   "cell_type": "markdown",
   "id": "e55f1f5c",
   "metadata": {},
   "source": [
    "Based on the variables loaded in the dataset. Therefore, to combine *order* dataset with *customer* variable *customer_id* is used."
   ]
  },
  {
   "cell_type": "code",
   "execution_count": null,
   "id": "2051f2ca",
   "metadata": {},
   "outputs": [],
   "source": [
    "order_cust = pd.merge(or_dat,cust,on='customer_id',how='left') \n",
    "order_cust.head()"
   ]
  },
  {
   "cell_type": "code",
   "execution_count": null,
   "id": "4073b100",
   "metadata": {},
   "outputs": [],
   "source": [
    "df = pd.merge(order_cust,or_item, on='order_id',how=\"left\")\n",
    "df.head()"
   ]
  },
  {
   "cell_type": "markdown",
   "id": "865d9c24",
   "metadata": {},
   "source": [
    "## 2. Removing Variabel"
   ]
  },
  {
   "cell_type": "code",
   "execution_count": null,
   "id": "d7365bb3",
   "metadata": {},
   "outputs": [],
   "source": [
    "df.info()"
   ]
  },
  {
   "cell_type": "code",
   "execution_count": 12,
   "id": "f39f58d4",
   "metadata": {},
   "outputs": [],
   "source": [
    "\"Since 'customer_id', 'seller_id', 'shipping_limit_date', and 'customer_zip_code_prefix' are not usable, we will have to delete them.\"\n",
    "df = df.drop(['customer_id', 'seller_id','shipping_limit_date','customer_zip_code_prefix'], axis = 1) "
   ]
  },
  {
   "cell_type": "code",
   "execution_count": null,
   "id": "f8e62f4f",
   "metadata": {},
   "outputs": [],
   "source": [
    "df=df[df['order_status']=='delivered']\n",
    "df.head()"
   ]
  },
  {
   "cell_type": "code",
   "execution_count": 14,
   "id": "785dbae2",
   "metadata": {},
   "outputs": [],
   "source": [
    "df.drop(['order_status'], axis = 1, inplace=True)"
   ]
  },
  {
   "cell_type": "markdown",
   "id": "18068b9c",
   "metadata": {},
   "source": [
    "## 3. Data Transformation"
   ]
  },
  {
   "cell_type": "code",
   "execution_count": null,
   "id": "2fb638c4",
   "metadata": {},
   "outputs": [],
   "source": [
    "df.info()"
   ]
  },
  {
   "cell_type": "code",
   "execution_count": 16,
   "id": "458632cc",
   "metadata": {},
   "outputs": [],
   "source": [
    "df.iloc[:, 1:6] = df.iloc[:, 1:6].apply(pd.to_datetime, errors='coerce')"
   ]
  },
  {
   "cell_type": "markdown",
   "id": "46dce715",
   "metadata": {},
   "source": [
    "Also, even though *order_item_id* is a number, that number is just a code. Therefore, *order_item_id* is supposed to be *string* data type."
   ]
  },
  {
   "cell_type": "code",
   "execution_count": 17,
   "id": "2ca54338",
   "metadata": {},
   "outputs": [],
   "source": [
    "#column 'order_item_id' will also be changed, each will be converted to a string\n",
    "df['order_item_id'] = df['order_item_id'].astype(str)"
   ]
  },
  {
   "cell_type": "markdown",
   "id": "2067d6d6",
   "metadata": {},
   "source": [
    "Now the data types used in this analysis are as follows."
   ]
  },
  {
   "cell_type": "code",
   "execution_count": null,
   "id": "30d54564",
   "metadata": {},
   "outputs": [],
   "source": [
    "df.info()"
   ]
  },
  {
   "cell_type": "code",
   "execution_count": null,
   "id": "570f2029",
   "metadata": {},
   "outputs": [],
   "source": [
    "df.head()"
   ]
  },
  {
   "cell_type": "markdown",
   "id": "0928e8de",
   "metadata": {},
   "source": [
    "## 4. Duplicate Removal"
   ]
  },
  {
   "cell_type": "markdown",
   "id": "2222d13e",
   "metadata": {},
   "source": [
    "The next step, check whether there is data duplication in this dataset."
   ]
  },
  {
   "cell_type": "code",
   "execution_count": null,
   "id": "ccc3d6f6",
   "metadata": {},
   "outputs": [],
   "source": [
    "#checking the number of rows that are the same (duplicate data)\n",
    "df.duplicated().sum()"
   ]
  },
  {
   "cell_type": "markdown",
   "id": "18b09d1e",
   "metadata": {},
   "source": [
    "## 5. Noise Detection"
   ]
  },
  {
   "cell_type": "markdown",
   "id": "204bcb9d",
   "metadata": {},
   "source": [
    "Then, the characteristics of the dataset are seen and analyzed whether there is data showing values that are outside the characteristics. This can show that the data is *noise*."
   ]
  },
  {
   "cell_type": "code",
   "execution_count": null,
   "id": "b7e124bc",
   "metadata": {},
   "outputs": [],
   "source": [
    "# Viewing descriptive statistics of the data to identify outliers (unreasonable data)\n",
    "df.describe()\n",
    "# The minimum value of 'freight_value' is observed to be 0, indicating a possibility of \n",
    "# free shipping. Other values seem reasonable, suggesting no apparent outliers."
   ]
  },
  {
   "cell_type": "markdown",
   "id": "daee3d53",
   "metadata": {},
   "source": [
    "Apparently, through this analysis there was no data showing characteristics that were 'strange' or different on their own."
   ]
  },
  {
   "cell_type": "markdown",
   "id": "203284d8",
   "metadata": {},
   "source": [
    "## 6. Missing Value Detection\n"
   ]
  },
  {
   "cell_type": "code",
   "execution_count": null,
   "id": "23586720",
   "metadata": {},
   "outputs": [],
   "source": [
    "df.isnull().sum()"
   ]
  },
  {
   "cell_type": "markdown",
   "id": "9b9f5e19",
   "metadata": {},
   "source": [
    "It can be seen that the *order_approved_at* variable contains a missing value indicating that a purchase is not approved by Olist. Meanwhile, *missing value* in *order_delivered_carrier_date* and *order_delivered_customer_date* indicates product arrival information that was not inputted into the dataset."
   ]
  },
  {
   "cell_type": "code",
   "execution_count": null,
   "id": "15efbadf",
   "metadata": {},
   "outputs": [],
   "source": [
    "#percentage of missing data for each categorical and numeric variable in the data\n",
    "(df.isnull().sum()/len(df)).to_frame('persentase missing')"
   ]
  },
  {
   "cell_type": "markdown",
   "id": "32e11c7a",
   "metadata": {},
   "source": [
    "It can be seen that the percentage of missing data in this variable is very small"
   ]
  },
  {
   "cell_type": "code",
   "execution_count": null,
   "id": "b2c131fe",
   "metadata": {},
   "outputs": [],
   "source": [
    "#A heatmap representation of missing values to visualize the distribution of missing values.\n",
    "sns.heatmap(df.isnull(), cbar=False)"
   ]
  },
  {
   "cell_type": "markdown",
   "id": "08051d09",
   "metadata": {},
   "source": [
    "The distribution of *missing value* seems random, so the missing value will be dropped with the condition: if there is at least one missing value in one of the columns, then the row is deleted"
   ]
  },
  {
   "cell_type": "code",
   "execution_count": 25,
   "id": "820c614b",
   "metadata": {},
   "outputs": [],
   "source": [
    "df.dropna(axis = 0, how = 'any', inplace = True)"
   ]
  },
  {
   "cell_type": "code",
   "execution_count": null,
   "id": "3ac51abb",
   "metadata": {},
   "outputs": [],
   "source": [
    "df.isnull().sum()"
   ]
  },
  {
   "cell_type": "code",
   "execution_count": 27,
   "id": "488d2d24",
   "metadata": {},
   "outputs": [
    {
     "data": {
      "text/plain": [
       "(110173, 13)"
      ]
     },
     "execution_count": 27,
     "metadata": {},
     "output_type": "execute_result"
    }
   ],
   "source": [
    "#size (rows, columns) of the data that is ready to be used.\n",
    "df.shape"
   ]
  },
  {
   "cell_type": "markdown",
   "id": "f63f121a",
   "metadata": {},
   "source": [
    "Based on this processing, now obtained data that is ready to be analyzed with 13 variables and 110173 rows."
   ]
  },
  {
   "cell_type": "markdown",
   "id": "4743c240",
   "metadata": {},
   "source": [
    "## 7. Data Visualization"
   ]
  },
  {
   "cell_type": "markdown",
   "id": "a6325f76",
   "metadata": {},
   "source": [
    "In the following sections, several aspects that can be used as information to increase their income are analyzed."
   ]
  },
  {
   "cell_type": "markdown",
   "id": "65e68727",
   "metadata": {},
   "source": [
    "### A. Number of Purchases on *E-Commerce*"
   ]
  },
  {
   "cell_type": "markdown",
   "id": "c1eb7256",
   "metadata": {},
   "source": [
    "#### a. Trend of Number of Purchases in 2016 - 2018"
   ]
  },
  {
   "cell_type": "code",
   "execution_count": null,
   "id": "666d881e",
   "metadata": {},
   "outputs": [],
   "source": [
    "# Extracting year, month, year-month, day of the week, and period from the 'order_purchase_timestamp' column\n",
    "df['purchase_year'] = df['order_purchase_timestamp'].dt.strftime('%Y')  \n",
    "df['purchase_month'] = df['order_purchase_timestamp'].dt.strftime('%b') \n",
    "df['purchase_yearmonth'] = df['order_purchase_timestamp'].dt.strftime('%Y%m')\n",
    "df['purchase_dayofweek'] = df['order_purchase_timestamp'].dt.strftime('%a')  \n",
    "\n",
    "# Creating a new column 'purchase_period' by dividing the hour of the purchase into 6 periods\n",
    "df['purchase_period'] = (df['order_purchase_timestamp'].dt.hour % 24 + 4) // 4\n",
    "df['purchase_period'].replace({\n",
    "    1: 'Late Night',\n",
    "    2: 'Early Morning',\n",
    "    3: 'Morning',\n",
    "    4: 'Noon',\n",
    "    5: 'Evening',\n",
    "    6: 'Night'\n",
    "}, inplace=True)\n",
    "\n",
    "# Converting month names in 'purchase_month' to corresponding month numbers\n",
    "df['month_num'] = df['purchase_month'].apply(lambda x: datetime.datetime.strptime(x, \"%b\").month)\n",
    "\n",
    "df.head()"
   ]
  },
  {
   "cell_type": "code",
   "execution_count": null,
   "id": "95e5aedc",
   "metadata": {},
   "outputs": [],
   "source": [
    "#plot of purchase trends from 2016 to 2018 using a line plot.\n",
    "sns.set(rc={'figure.figsize':(20,5)}) \n",
    "sns.lineplot(data=df['purchase_yearmonth'].value_counts().sort_index()[3:], \n",
    "             color='darkslateblue', linewidth=2)\n",
    "plt.title('Trend of Purchase Quantity from 2017 to 2018.') "
   ]
  },
  {
   "cell_type": "markdown",
   "id": "0b8e37b2",
   "metadata": {},
   "source": [
    "From the *line plot* above it can be seen that the sales trend\n",
    "continues to increase even though there were some slight declines\n"
   ]
  },
  {
   "cell_type": "code",
   "execution_count": 30,
   "id": "c016cd31",
   "metadata": {},
   "outputs": [],
   "source": [
    "cols = ['purchase_year', 'purchase_yearmonth'] \n",
    "df[cols] = df[cols].apply(pd.to_numeric, errors='coerce', axis=1) "
   ]
  },
  {
   "cell_type": "markdown",
   "id": "3fe940c9",
   "metadata": {},
   "source": [
    "#### b. Tendency of Customers to Buy on *E-Commerce*"
   ]
  },
  {
   "cell_type": "code",
   "execution_count": null,
   "id": "236d6b8c",
   "metadata": {},
   "outputs": [],
   "source": [
    "#Bar plot of the number of purchases per day.\n",
    "order=['Mon','Tue','Wed','Thu','Fri','Sat','Sun']\n",
    "sns.set(rc={'figure.figsize':(20,5)})\n",
    "sns.countplot(df['purchase_dayofweek'],data=df,palette='YlGnBu',order=order)\n",
    "plt.title('Comparison of Purchase Quantity in a Day')\n",
    "plt.xlabel('Day') \n",
    "plt.ylabel('Number of Purchases')"
   ]
  },
  {
   "cell_type": "markdown",
   "id": "dee174cc",
   "metadata": {},
   "source": [
    "It can be seen that the highest number of purchases is on Monday, while the least number of purchases is on Saturday"
   ]
  },
  {
   "cell_type": "code",
   "execution_count": 32,
   "id": "47892b37",
   "metadata": {},
   "outputs": [
    {
     "data": {
      "text/plain": [
       "Mon    17973\n",
       "Tue    17857\n",
       "Wed    17217\n",
       "Thu    16431\n",
       "Fri    15693\n",
       "Sun    13126\n",
       "Sat    11876\n",
       "Name: purchase_dayofweek, dtype: int64"
      ]
     },
     "execution_count": 32,
     "metadata": {},
     "output_type": "execute_result"
    }
   ],
   "source": [
    "#To view the total number of purchases per day.\n",
    "df['purchase_dayofweek'].value_counts()"
   ]
  },
  {
   "cell_type": "markdown",
   "id": "7d804af4",
   "metadata": {},
   "source": [
    "#### c. Tendency when customers buy on *E-Commerce*"
   ]
  },
  {
   "cell_type": "code",
   "execution_count": null,
   "id": "31f06584",
   "metadata": {},
   "outputs": [],
   "source": [
    "#Create a bar plot of the number of purchases within 6 time periods throughout the day\n",
    "order=['Early Morning', 'Morning', 'Noon', 'Evening', 'Night', 'Late Night']\n",
    "sns.countplot(df['purchase_period'],data=df,palette='YlGnBu',order=order)\n",
    "plt.title('Comparison of Purchase Quantity per Time Period Within a Day.') \n",
    "plt.xlabel('Time Period') \n",
    "plt.ylabel('Total Purchase') "
   ]
  },
  {
   "cell_type": "code",
   "execution_count": 34,
   "id": "3f9191e7",
   "metadata": {},
   "outputs": [
    {
     "data": {
      "text/plain": [
       "Noon             28506\n",
       "Evening          27279\n",
       "Night            24432\n",
       "Morning          22834\n",
       "Late Night        4792\n",
       "Early Morning     2330\n",
       "Name: purchase_period, dtype: int64"
      ]
     },
     "execution_count": 34,
     "metadata": {},
     "output_type": "execute_result"
    }
   ],
   "source": [
    "# to see the total number of purchases in 6 periodic times a day \n",
    "df['purchase_period'].value_counts()"
   ]
  },
  {
   "cell_type": "markdown",
   "id": "73d78a6b",
   "metadata": {},
   "source": [
    "#### d. Comparison of Number of Purchases Per Month in 2017 and 2018"
   ]
  },
  {
   "cell_type": "code",
   "execution_count": null,
   "id": "cb958651",
   "metadata": {},
   "outputs": [],
   "source": [
    "#A bar chart comparing the number of purchases per month in the years 2017 and 2018.\n",
    "df_compare = df.query('purchase_year in (2017, 2018) &  month_num <= 8')\n",
    "year_orders = df_compare['purchase_year'].value_counts()\n",
    "growth = int(round(100 * (1 + year_orders[2017] / year_orders[2018]), 0))\n",
    "order=['Jan','Feb','Mar','Apr','May','Jun','Jul','Aug']\n",
    "sns.countplot(df_compare['purchase_month'],data=df_compare,hue='purchase_year',palette='YlGnBu',order=order)\n",
    "plt.title('Perbandingan Jumlah Pembelian Per Bulan pada Tahun 2017 dan 2018')\n",
    "plt.xlabel('Bulan')\n",
    "plt.ylabel('Jumlah Pembelian')"
   ]
  },
  {
   "cell_type": "markdown",
   "id": "a459f9f8",
   "metadata": {},
   "source": [
    "From the following *bar plot*, it can be seen that the number of purchases in 2018 was greater than in 2017 every month.\n",
    "Sales efforts carried out by e-commerce  were quite optimal in 2018 compared to 2017."
   ]
  },
  {
   "cell_type": "code",
   "execution_count": 36,
   "id": "d0218052",
   "metadata": {},
   "outputs": [
    {
     "data": {
      "text/plain": [
       "Aug    4797\n",
       "Jul    4416\n",
       "May    4003\n",
       "Jun    3489\n",
       "Mar    2897\n",
       "Apr    2569\n",
       "Feb    1845\n",
       "Jan     911\n",
       "Name: purchase_month, dtype: int64"
      ]
     },
     "execution_count": 36,
     "metadata": {},
     "output_type": "execute_result"
    }
   ],
   "source": [
    "#To view the total purchase amount per month in the year 2017.\n",
    "df_compare[df_compare['purchase_year']==2017]['purchase_month'].value_counts()"
   ]
  },
  {
   "cell_type": "code",
   "execution_count": 37,
   "id": "11ce4b0a",
   "metadata": {},
   "outputs": [
    {
     "data": {
      "text/plain": [
       "Jan    8037\n",
       "Mar    8017\n",
       "Apr    7827\n",
       "May    7810\n",
       "Feb    7518\n",
       "Aug    7142\n",
       "Jun    7007\n",
       "Jul    6960\n",
       "Name: purchase_month, dtype: int64"
      ]
     },
     "execution_count": 37,
     "metadata": {},
     "output_type": "execute_result"
    }
   ],
   "source": [
    "#To see the total purchase amount per month in the year 2018.\n",
    "df_compare[df_compare['purchase_year']==2018]['purchase_month'].value_counts()"
   ]
  },
  {
   "cell_type": "code",
   "execution_count": 38,
   "id": "df0eebf7",
   "metadata": {},
   "outputs": [],
   "source": [
    "#### e. Number of Purchases by City"
   ]
  },
  {
   "cell_type": "code",
   "execution_count": 39,
   "id": "9071cd04",
   "metadata": {},
   "outputs": [],
   "source": [
    "df_city = df.groupby(by='customer_city', as_index=False).agg({'order_id':'count'}).sort_values(by='order_id', ascending=False).reset_index(drop=True) \n",
    "df_city_big = df_city.head() \n",
    "df_city_small = df_city.tail(20) "
   ]
  },
  {
   "cell_type": "code",
   "execution_count": null,
   "id": "7d4c62ae",
   "metadata": {},
   "outputs": [],
   "source": [
    "#Plot the number of purchases based on the city.\n",
    "sns.barplot(y='customer_city', x='order_id', data=df_city_big, palette='magma')\n",
    "plt.title('Total Purchases for the Top 5 Cities')\n",
    "plt.xlabel('Quantity') \n",
    "plt.ylabel('City') "
   ]
  },
  {
   "cell_type": "markdown",
   "id": "5cd67d52",
   "metadata": {},
   "source": [
    "From the *plot* below, it can be seen that the city of Sao Paulo has the highest number of purchases while the city of Sao Bernardo do Campo has the least number of purchases."
   ]
  },
  {
   "cell_type": "code",
   "execution_count": null,
   "id": "8ebc0357",
   "metadata": {},
   "outputs": [],
   "source": [
    "#to see the total number of purchases for the 5 highest cities\n",
    "df_city.sort_values('order_id',ascending=False)"
   ]
  },
  {
   "cell_type": "markdown",
   "id": "d2e4330d",
   "metadata": {},
   "source": [
    "#### f. Number of Customers Based on State"
   ]
  },
  {
   "cell_type": "code",
   "execution_count": null,
   "id": "02142f88",
   "metadata": {},
   "outputs": [],
   "source": [
    "#Plot the number of customers based on state\n",
    "sns.set(rc={'figure.figsize':(10,10)})\n",
    "sns.countplot(y=df['customer_state'], data=df, palette='viridis',order = df['customer_state'].value_counts().iloc[:5].index) \n",
    "plt.title('Number of Customers for the Top 5 States')\n",
    "plt.xlabel('Number')\n",
    "plt.ylabel('State')"
   ]
  },
  {
   "cell_type": "markdown",
   "id": "0b00e7d9",
   "metadata": {},
   "source": [
    "Based on the picture above, the largest number of customers come from Sao Paulo"
   ]
  },
  {
   "cell_type": "code",
   "execution_count": null,
   "id": "534dc4f5",
   "metadata": {},
   "outputs": [],
   "source": [
    "#Plot the number of customers based on state.\n",
    "sns.set(rc={'figure.figsize':(10,10)}) \n",
    "sns.countplot(y=df['customer_state'], data=df, palette='viridis',order = df['customer_state'].value_counts().iloc[-5:].index)\n",
    "plt.title('Number of Customers for the 5 Lowest States')\n",
    "plt.xlabel('Quantity') \n",
    "plt.ylabel('State') "
   ]
  },
  {
   "cell_type": "markdown",
   "id": "b3019322",
   "metadata": {},
   "source": [
    "Based on the picture above, the least number of *customers* comes from Roraima(RR)"
   ]
  },
  {
   "cell_type": "code",
   "execution_count": null,
   "id": "b9f046d1",
   "metadata": {},
   "outputs": [],
   "source": [
    "#to see the total number of customers for the 5 lowest states\n",
    "df['customer_state'].value_counts().iloc[-5:]"
   ]
  },
  {
   "cell_type": "code",
   "execution_count": null,
   "id": "44ec2294",
   "metadata": {},
   "outputs": [],
   "source": [
    "df['customer_state'].value_counts().iloc[:10]"
   ]
  },
  {
   "cell_type": "markdown",
   "id": "307158c3",
   "metadata": {},
   "source": [
    "### B.Economy *E-Commerce*"
   ]
  },
  {
   "cell_type": "markdown",
   "id": "bc1d981d",
   "metadata": {},
   "source": [
    "#### a. Trend of Total Income"
   ]
  },
  {
   "cell_type": "markdown",
   "id": "02b1ca82",
   "metadata": {},
   "source": [
    "Revenue is the total cost of ordering along with shipping costs."
   ]
  },
  {
   "cell_type": "code",
   "execution_count": null,
   "id": "04614ea5",
   "metadata": {},
   "outputs": [],
   "source": [
    "df_month = df.groupby(by=['purchase_year', 'purchase_yearmonth'], as_index=False).agg({\n",
    "    'order_id': 'count',\n",
    "    'price': 'sum',\n",
    "    'freight_value': 'sum'}) \n",
    "df_month['price_per_order'] = df_month['price'] / df_month['order_id'] \n",
    "df_month['freight_per_order'] = df_month['freight_value'] / df_month['order_id'] \n",
    "df_month['purchase_yearmonth']=df_month['purchase_yearmonth'].astype('str') \n",
    "df_month.head()"
   ]
  },
  {
   "cell_type": "code",
   "execution_count": null,
   "id": "a8b99680",
   "metadata": {},
   "outputs": [],
   "source": [
    "# Large-scale purchase plot for each month from 2017 to 2018\n",
    "sns.set(rc={'figure.figsize':(15,5)}) # Set plot size\n",
    "plt.xticks(rotation=90) # Rotate each label on the x-axis by 90 degrees left\n",
    "sns.lineplot(x='purchase_yearmonth', y='price', data=df_month[3:], linewidth=1, \n",
    "             color='darkslateblue', marker='o', label='Purchase Amount')\n",
    "plt.title('Monthly Purchase Trends from 2017 to 2018') # Set the plot title\n",
    "plt.xlabel('Year-Month of Purchase') # Label for the x-axis\n",
    "plt.ylabel('Purchase Price') # Label for the y-axis"
   ]
  },
  {
   "cell_type": "markdown",
   "id": "fa116eef",
   "metadata": {},
   "source": [
    "Overall, the trend of income has been increasing for each month although there was a significant decrease in December 2017 and income started to increase slightly in April 2018"
   ]
  },
  {
   "cell_type": "markdown",
   "id": "2d17a2dc",
   "metadata": {},
   "source": [
    "#### b. Purchase Amount"
   ]
  },
  {
   "cell_type": "code",
   "execution_count": null,
   "id": "c8bb1ede",
   "metadata": {},
   "outputs": [],
   "source": [
    "# Bar plot to visualize the number of purchases each month from 2017 to 2018\n",
    "plt.xticks(rotation=90)  # To rotate each label on the x-axis by 90 degrees to the left\n",
    "sns.countplot(df[df['purchase_year'] != 2016]['purchase_yearmonth'], data=df, palette='YlGnBu_r')  # To rotate x-axis labels by 90 degrees\n",
    "plt.title('Number of Purchases Each Month from 2017 to 2018')  # To provide a title for the plot\n",
    "plt.xlabel('Year-month of purchase')  # To label the x-axis\n",
    "plt.ylabel('Number of Purchases')  # To label the y-axis\n"
   ]
  },
  {
   "cell_type": "markdown",
   "id": "b93d289e",
   "metadata": {},
   "source": [
    "From the bar plot above, it can be seen that the amount of income has increased until November 2017 even though it decreased in December 2017. Then the amount of income was evenly distributed after December 2017"
   ]
  },
  {
   "cell_type": "markdown",
   "id": "725548e9",
   "metadata": {},
   "source": [
    "#### c. Total Purchase Price Based on State"
   ]
  },
  {
   "cell_type": "code",
   "execution_count": null,
   "id": "40c61ba1",
   "metadata": {},
   "outputs": [],
   "source": [
    "# Bar chart to visualize the total purchase price based on state\n",
    "sns.set(rc={'figure.figsize':(10,10)}) # plot size\n",
    "df.groupby('customer_state').agg({'price':'sum'}).sort_values('price').plot(kind='barh') # calculate the total purchase price for each state\n",
    "plt.title('Total Purchase Price for Each State') # set plot title\n",
    "plt.xlabel('Total Purchase Price') # set x-axis label\n",
    "plt.ylabel('State') # set y-axis label\n"
   ]
  },
  {
   "cell_type": "markdown",
   "id": "851adf1d",
   "metadata": {},
   "source": [
    "It can be seen that the highest total purchase price comes from *state* Sao Paulo(SP) while the lowest total purchase price comes from *state* Roraima(RR)"
   ]
  },
  {
   "cell_type": "markdown",
   "id": "1c7453b2",
   "metadata": {},
   "source": [
    "#### d. Average Price by State"
   ]
  },
  {
   "cell_type": "code",
   "execution_count": null,
   "id": "f46e892d",
   "metadata": {},
   "outputs": [],
   "source": [
    "# Bar chart to visualize the average product prices based on state\n",
    "sns.set(rc={'figure.figsize':(10,10)}) # Plot size\n",
    "df.groupby('customer_state').agg({'price':'mean'}).sort_values('price').plot(kind='barh') # Calculate the average purchase price for each state\n",
    "plt.title('Average Purchase Price for Each State') # Title for the plot\n",
    "plt.xlabel('Average Purchase Price') # X-axis label\n",
    "plt.ylabel('State') # Y-axis label\n"
   ]
  },
  {
   "cell_type": "markdown",
   "id": "1d67bf1c",
   "metadata": {},
   "source": [
    "It can be seen that *state* Paraiba (PB) has the highest average purchase price, while *state* Sao Paulo (SP) has the lowest average purchase price"
   ]
  },
  {
   "cell_type": "code",
   "execution_count": null,
   "id": "9771b888",
   "metadata": {},
   "outputs": [],
   "source": [
    "df.groupby('customer_state').agg({'price':'mean'}).sort_values('price',ascending=False)"
   ]
  },
  {
   "cell_type": "markdown",
   "id": "eee6b277",
   "metadata": {},
   "source": [
    "#### e. Trend of Average Shipping Prices"
   ]
  },
  {
   "cell_type": "code",
   "execution_count": null,
   "id": "a3ca43fa",
   "metadata": {},
   "outputs": [],
   "source": [
    "# Line plot to visualize the average shipping cost per purchase each month from 2017 to 2018\n",
    "plt.xticks(rotation=90) # Rotate x-axis labels by 90 degrees\n",
    "sns.lineplot(x='purchase_yearmonth', y='freight_per_order', data=df_month[3:], linewidth=2, color='black', marker='o')\n",
    "plt.title('Trend of Average Shipping Cost per Purchase Each Month from 2017 to 2018') # Set title for the plot\n",
    "plt.xlabel('Year-Month of Purchase') # Set label for x-axis\n",
    "plt.ylabel('Average Shipping Cost per Purchase') # Set label for y-axis\n"
   ]
  },
  {
   "cell_type": "markdown",
   "id": "101d5655",
   "metadata": {},
   "source": [
    "From the chart above, the average trend of shipments per order has increased in February 2017 and evenly thereafter until February 2018. Then as a whole, after February 2018 there has been a large increase despite experiencing several small decreases and a large decrease in August 2018"
   ]
  },
  {
   "cell_type": "markdown",
   "id": "b1b0cb5d",
   "metadata": {},
   "source": [
    "#### f. Total Shipping Prices Based on State"
   ]
  },
  {
   "cell_type": "code",
   "execution_count": null,
   "id": "9e70a0c4",
   "metadata": {},
   "outputs": [],
   "source": [
    "# Bar chart to visualize the total shipping cost based on state\n",
    "sns.set(rc={'figure.figsize':(10,10)}) # Plot size\n",
    "df.groupby('customer_state').agg({'freight_value':'sum'}).sort_values('freight_value').plot(kind='barh') # Calculate the total shipping cost for each state\n",
    "plt.title('Total Shipping Cost for Each State') # Set the title for the plot\n",
    "plt.xlabel('Total Shipping Cost') # Label for the x-axis\n",
    "plt.ylabel('State') # Label for the y-axis"
   ]
  },
  {
   "cell_type": "markdown",
   "id": "1e322ab0",
   "metadata": {},
   "source": [
    "The largest total shipping price is shipping to Sao Paulo(SP), while the lowest is to Roraima(RR)"
   ]
  },
  {
   "cell_type": "code",
   "execution_count": null,
   "id": "25c6b222",
   "metadata": {},
   "outputs": [],
   "source": [
    "df.groupby('customer_state').agg({'freight_value':'sum'}).sort_values('freight_value')"
   ]
  },
  {
   "cell_type": "markdown",
   "id": "f8f790bc",
   "metadata": {},
   "source": [
    "#### h.Delivery Analysis"
   ]
  },
  {
   "cell_type": "code",
   "execution_count": 55,
   "id": "3a0155f4",
   "metadata": {},
   "outputs": [],
   "source": [
    "purchasing = df['order_purchase_timestamp']\n",
    "delivered = df['order_delivered_customer_date']\n",
    "estimated = df['order_estimated_delivery_date']\n",
    "df['time_to_delivery'] = delivered - purchasing  # to calculate the duration of delivery time\n",
    "df['diff_estimated_delivery'] = delivered - estimated  # to calculate the difference between actual and estimated delivery time"
   ]
  },
  {
   "cell_type": "code",
   "execution_count": 56,
   "id": "f7a18e0a",
   "metadata": {},
   "outputs": [],
   "source": [
    "df['time_to_delivery'] = df['time_to_delivery'].apply(lambda x: x/ np.timedelta64(1, 'h')) # to convert the 'time_to_delivery' format to hours\n",
    "df['diff_estimated_delivery'] = df['diff_estimated_delivery'].apply(lambda x: x/ np.timedelta64(1, 'h')) # to convert the 'diff_estimated_delivery' format to hours\n"
   ]
  },
  {
   "cell_type": "code",
   "execution_count": 57,
   "id": "d007e4f7",
   "metadata": {},
   "outputs": [],
   "source": [
    "df_state = df.groupby(by='customer_state', as_index=False).mean() # to calculate the mean of each numerical variable from the data based on state\n",
    "state_freight = df_state.loc[:, ['customer_state', 'freight_value']].sort_values(by='freight_value', ascending=False) # to sort states based on shipping cost\n",
    "state_time_to_delivery = df_state.loc[:, ['customer_state', 'time_to_delivery']].sort_values(by='time_to_delivery', ascending=False) # to sort states based on delivery time\n",
    "state_estimated_delivery = df_state.loc[:, ['customer_state', 'diff_estimated_delivery']].sort_values(by='diff_estimated_delivery') # to sort states based on the difference between actual and estimated delivery times\n"
   ]
  },
  {
   "cell_type": "code",
   "execution_count": null,
   "id": "4894c977",
   "metadata": {},
   "outputs": [],
   "source": [
    "\"To see the difference in the arrival time of a shipment from the estimated time.\"\n",
    "state_estimated_delivery"
   ]
  },
  {
   "cell_type": "markdown",
   "id": "803136a5",
   "metadata": {},
   "source": [
    "Because all *states* have different *delivery* times and estimates are negative, meaning that **delivery to all *states* arrives earlier than the estimated estimated time**"
   ]
  },
  {
   "cell_type": "code",
   "execution_count": null,
   "id": "5659ec2c",
   "metadata": {},
   "outputs": [],
   "source": [
    "# Absolute value of the difference between delivery time and estimation will be calculated, in the column 'diff_estimated_delivery'\n",
    "state_estimated_delivery['diff_estimated_delivery'] = state_estimated_delivery['diff_estimated_delivery'].abs()\n",
    "state_estimated_delivery # will be printed to observe the absolute results\n"
   ]
  },
  {
   "cell_type": "code",
   "execution_count": null,
   "id": "b07f2da8",
   "metadata": {},
   "outputs": [],
   "source": [
    "# To visualize the top 5 states with the highest shipping costs\n",
    "sns.barplot(x='freight_value', y='customer_state', data=state_freight.head(), palette='viridis')\n",
    "plt.title('Shipping Costs for Top 5 States')  # To provide a title for the plot\n",
    "plt.xlabel('Shipping Costs')  # To label the x-axis\n",
    "plt.ylabel('State')  # To label the y-axis"
   ]
  },
  {
   "cell_type": "markdown",
   "id": "be50859a",
   "metadata": {},
   "source": [
    "It can be seen that the highest shipping price is the shipping price to Paraiba(PB)"
   ]
  },
  {
   "cell_type": "code",
   "execution_count": null,
   "id": "67b3946d",
   "metadata": {},
   "outputs": [],
   "source": [
    "state_freight[['customer_state','freight_value']].sort_values('freight_value',ascending=False)[:5]"
   ]
  },
  {
   "cell_type": "code",
   "execution_count": null,
   "id": "72d930f1",
   "metadata": {},
   "outputs": [],
   "source": [
    "sns.barplot(x='freight_value', y='customer_state', data=state_freight.tail(), palette='viridis_r')\n",
    "plt.title('Shipping Prices for the 5 Lowest States') #to provide a title for the plot\n",
    "plt.xlabel('Shipping Prices') #for labeling the x-axis\n",
    "plt.ylabel('State') #for labeling the y-axis\n"
   ]
  },
  {
   "cell_type": "markdown",
   "id": "e7c49fab",
   "metadata": {},
   "source": [
    "While the lowest shipping price is the shipping price to Sao Paulo(SP)"
   ]
  },
  {
   "cell_type": "code",
   "execution_count": null,
   "id": "8b89526e",
   "metadata": {},
   "outputs": [],
   "source": [
    "\n",
    "state_freight[['customer_state','freight_value']].sort_values('freight_value',ascending=False).tail()"
   ]
  },
  {
   "cell_type": "code",
   "execution_count": null,
   "id": "a7c7cc08",
   "metadata": {},
   "outputs": [],
   "source": [
    "# To view the 5 states with the longest delivery times\n",
    "sns.barplot(x='time_to_delivery', y='customer_state', data=state_time_to_delivery.head(), palette='viridis')\n",
    "plt.title('Delivery Time for 5 States with the Longest Delays')  # To give a title to the plot\n",
    "plt.xlabel('Delivery Time')  # Label for the x-axis\n",
    "plt.ylabel('State')  # Label for the y-axis\n"
   ]
  },
  {
   "cell_type": "code",
   "execution_count": null,
   "id": "887cad42",
   "metadata": {},
   "outputs": [],
   "source": [
    "\n",
    "state_time_to_delivery[['customer_state','time_to_delivery']].sort_values('time_to_delivery',ascending=False).head()"
   ]
  },
  {
   "cell_type": "code",
   "execution_count": null,
   "id": "ae7c2e0f",
   "metadata": {},
   "outputs": [],
   "source": [
    "# To visualize the top 5 states with the longest delivery times\n",
    "sns.barplot(x='time_to_delivery', y='customer_state', data=state_time_to_delivery.tail(), palette='viridis_r')\n",
    "plt.title('Delivery Time for Top 5 States with Longest Delivery')  # To give a title to the plot\n",
    "plt.xlabel('Delivery Time Duration')  # Label for the x-axis\n",
    "plt.ylabel('State')  # Label for the y-axis"
   ]
  },
  {
   "cell_type": "markdown",
   "id": "1698113f",
   "metadata": {},
   "source": [
    "Meanwhile *state* Sao Paulo(SP) has the fastest delivery time"
   ]
  },
  {
   "cell_type": "code",
   "execution_count": null,
   "id": "7071447c",
   "metadata": {},
   "outputs": [],
   "source": [
    "#to see the delivery time for the 5 fastest states (in hours)\n",
    "state_time_to_delivery[['customer_state','time_to_delivery']].sort_values('time_to_delivery',ascending=False).tail()"
   ]
  },
  {
   "cell_type": "code",
   "execution_count": null,
   "id": "0d3d09bf",
   "metadata": {},
   "outputs": [],
   "source": [
    "# To visualize the 5 states with the largest difference in arrival time and estimated time\n",
    "sns.barplot(x='diff_estimated_delivery', y='customer_state', data=state_estimated_delivery.head(), palette='viridis')\n",
    "plt.title('5 States with the Largest Difference in Arrival Time and Estimated Time') # To provide a title for the plot\n",
    "plt.xlabel('Time Difference between Delivery and Estimated Time') # Label for the x-axis\n",
    "plt.ylabel('State') # Label for the y-axis"
   ]
  },
  {
   "cell_type": "code",
   "execution_count": null,
   "id": "e2699f02",
   "metadata": {},
   "outputs": [],
   "source": [
    "state_estimated_delivery[['customer_state','diff_estimated_delivery']].sort_values('diff_estimated_delivery',ascending=False).head()"
   ]
  },
  {
   "cell_type": "code",
   "execution_count": null,
   "id": "b99db9aa",
   "metadata": {},
   "outputs": [],
   "source": [
    "# To visualize the 5 states with the smallest differences between arrival time and estimated time\n",
    "sns.barplot(x='diff_estimated_delivery', y='customer_state', data=state_estimated_delivery.tail(), palette='viridis_r')\n",
    "plt.title('5 States with the Smallest Differences Between Arrival Time and Estimated Time')  # To provide a title for the plot\n",
    "plt.xlabel('Duration of Receiving Goods and Estimated Time')  # Label for the x-axis\n",
    "plt.ylabel('State')  # Label for the y-axis"
   ]
  },
  {
   "cell_type": "markdown",
   "id": "7c0d4ccc",
   "metadata": {},
   "source": [
    "In *state* Alagoas(AL) there is a late delivery time that is faster than the estimated time"
   ]
  },
  {
   "cell_type": "code",
   "execution_count": null,
   "id": "608fd4fa",
   "metadata": {},
   "outputs": [],
   "source": [
    "#To view the time difference between arrival time and estimated time for the 5 smallest states.\n",
    "state_estimated_delivery[['customer_state','diff_estimated_delivery']].sort_values('diff_estimated_delivery',ascending=False).tail()"
   ]
  },
  {
   "cell_type": "markdown",
   "id": "f84f0827",
   "metadata": {},
   "source": [
    "# III. Methodology (Machine Learning):\n",
    "In this section, we will create a model that can perform *customer segmentation*. *Customer segmentation* itself is an *unsupervised* problem so that our data does not have a label, but later we ourselves will provide a label. Algorithm that can be used:\n",
    "- RFM Sementation\n",
    "- K-Means\n",
    "- Agglomerative Clustering"
   ]
  },
  {
   "cell_type": "markdown",
   "id": "ddf9d3f2",
   "metadata": {},
   "source": [
    "## Data (Machine Learning):\n",
    "- Unit Analysis:\n",
    "  - Customer behavior: Customer Unique ID\n",
    "\n",
    "- Features:\n",
    "  - Recency: Measures the last time a customer made a transaction.\n",
    "\n",
    "  - Frequency: Measures how often a customer makes a transaction.\n",
    "\n",
    "  - Monetary: Measures the total transactions made by a customer."
   ]
  },
  {
   "cell_type": "markdown",
   "id": "573e1ff9",
   "metadata": {},
   "source": [
    "## RFM Segmentation \n",
    "RFM stands for *Recency, Frequency* and *Monetary*. Each factor adjusts to the characteristics of *customer*. This RFM metric is an important indicator of *customer* behavior segmentation because *frequency* and *monetary* affect *customer lifetime value*, and *recency* affects *engagement rate.*"
   ]
  },
  {
   "cell_type": "markdown",
   "id": "fdb8798b",
   "metadata": {},
   "source": [
    "The *RFM Analysis* application on this data aims to segment *customers*, so that e-commerce can apply sales/marketing strategies that suit the characteristics of these *customers*."
   ]
  },
  {
   "cell_type": "markdown",
   "id": "67ca1af8",
   "metadata": {},
   "source": [
    "## 1. Persiapan Dataset"
   ]
  },
  {
   "cell_type": "markdown",
   "id": "c6e4cc74",
   "metadata": {},
   "source": [
    "Because what is analyzed is *customer* characteristics, the previous data is grouped based on *customer*. \n"
   ]
  },
  {
   "cell_type": "code",
   "execution_count": 118,
   "id": "39651619",
   "metadata": {},
   "outputs": [],
   "source": [
    "import pandas as pd\n",
    "from datetime import datetime, timedelta\n",
    "\n",
    "# Modeling\n",
    "from sklearn.cluster import KMeans\n",
    "from sklearn.mixture import GaussianMixture\n",
    "\n",
    "# Evaluation\n",
    "from sklearn.metrics import silhouette_score\n",
    "\n",
    "#Scaling\n",
    "from sklearn.preprocessing import StandardScaler\n",
    "\n",
    "# Regular Expression\n",
    "import re\n",
    "\n",
    "# Warnings\n",
    "import warnings\n",
    "warnings.filterwarnings('ignore')\n"
   ]
  },
  {
   "cell_type": "code",
   "execution_count": null,
   "id": "cb44907f",
   "metadata": {},
   "outputs": [],
   "source": [
    "df1 = pd.merge(df,or_pay,on='order_id',how='left') \n",
    "df1.head()"
   ]
  },
  {
   "cell_type": "code",
   "execution_count": 74,
   "id": "2e807d47",
   "metadata": {},
   "outputs": [],
   "source": [
    "df1 = df1.drop(['payment_installments', 'payment_sequential'], axis = 1)"
   ]
  },
  {
   "cell_type": "code",
   "execution_count": 75,
   "id": "53a6e241",
   "metadata": {},
   "outputs": [],
   "source": [
    "# Recency\n",
    "now = datetime.now()\n",
    "df1['order_purchase_timestamp'] = pd.to_datetime(df1['order_purchase_timestamp'])\n",
    "df1['recency'] = (now - df1['order_purchase_timestamp']).dt.days\n",
    "\n",
    "# Frequency\n",
    "data_frequency = df1.groupby('order_item_id').order_purchase_timestamp.count()\n",
    "data_frequency = data_frequency.reset_index()\n",
    "data_frequency.columns = ['order_item_id','frequency']\n",
    "df1 = df1.merge(data_frequency, on='order_item_id')\n",
    "\n",
    "# Monetary\n",
    "data_monetary = df1.groupby('order_item_id').payment_value.sum()\n",
    "data_monetary = data_monetary.reset_index()\n",
    "data_monetary.columns = ['order_item_id','monetary']\n",
    "df1 = df1.merge(data_monetary, on='order_item_id')\n",
    "\n"
   ]
  },
  {
   "cell_type": "code",
   "execution_count": null,
   "id": "7ac160fd",
   "metadata": {},
   "outputs": [],
   "source": [
    "df1.columns"
   ]
  },
  {
   "cell_type": "code",
   "execution_count": 77,
   "id": "c7c988c6",
   "metadata": {},
   "outputs": [],
   "source": [
    "# Group data by customer_unique_id\n",
    "rfm = df1.groupby(['customer_unique_id']).agg({\n",
    "    'order_purchase_timestamp': lambda x: (df1['order_purchase_timestamp'].max() - x.max()).days,\n",
    "    'order_id': 'count',\n",
    "    'price': 'sum'\n",
    "})"
   ]
  },
  {
   "cell_type": "code",
   "execution_count": 78,
   "id": "f5683ff4",
   "metadata": {},
   "outputs": [],
   "source": [
    "# Rename columns\n",
    "rfm.rename(columns={'order_purchase_timestamp': 'recency',\n",
    "                   'order_id': 'frequency',\n",
    "                   'price': 'monetary'}, inplace=True)\n"
   ]
  },
  {
   "cell_type": "code",
   "execution_count": 79,
   "id": "b74668c7",
   "metadata": {},
   "outputs": [],
   "source": [
    "# Assign score\n",
    "rfm['recency_score'] = pd.qcut(rfm['recency'], q=4, labels=list(range(4, 0, -1)))\n",
    "rfm['frequency_score'] = pd.qcut(rfm['frequency'], q=4, labels=list(range(4, 5)), duplicates='drop')\n",
    "rfm['monetary_score'] = pd.qcut(rfm['monetary'], q=4, labels=list(range(1, 5)), duplicates='drop')\n",
    "\n",
    "# Create RFM_Score\n",
    "rfm['RFM_Score'] = rfm[['recency_score', 'frequency_score', 'monetary_score']].sum(axis=1)\n"
   ]
  },
  {
   "cell_type": "code",
   "execution_count": 80,
   "id": "4247024e",
   "metadata": {},
   "outputs": [],
   "source": [
    "# For most use cases, people usually look at one year data\n",
    "rfm = rfm[rfm['recency'] <= 365]"
   ]
  },
  {
   "cell_type": "code",
   "execution_count": null,
   "id": "b69c1f92",
   "metadata": {},
   "outputs": [],
   "source": [
    "rfm.info()"
   ]
  },
  {
   "cell_type": "markdown",
   "id": "fdfe9cd3",
   "metadata": {},
   "source": [
    "## We'll do 5x5x5 RFM analysis"
   ]
  },
  {
   "cell_type": "code",
   "execution_count": null,
   "id": "49f0ff51",
   "metadata": {},
   "outputs": [],
   "source": [
    "# Get the sense of the distribution\n",
    "rfm.quantile([.2, .4, .6, .8]).to_dict()"
   ]
  },
  {
   "cell_type": "markdown",
   "id": "c2f4f56e",
   "metadata": {},
   "source": [
    "#### For the convenience of marketers, we can choose the grouping method as follows:\n",
    "\n",
    "- Recency:\n",
    "\n",
    "|  Days  | R-score |\n",
    "|:------:|:-------:|\n",
    "| 0-14   |    5    |\n",
    "| 15-30  |    4    |\n",
    "| 31-60  |    3    |\n",
    "| 60-180 |    2    |\n",
    "| > 180  |    1    |\n",
    "\n",
    "- Frequency\n",
    "\n",
    "|Frequency| F-score |\n",
    "|:-------:|:-------:|\n",
    "|  > 6    |    5    |\n",
    "|  5 - 6  |    4    |\n",
    "|  3 - 4  |    3    |\n",
    "|    2    |    2    |\n",
    "|    1    |    1    |\n",
    "\n",
    "\n",
    "- Monetary\n",
    "\n",
    "| Monetary   | M-score |\n",
    "|:----------:|:-------:|\n",
    "|   >2000    |    5    |\n",
    "| (1000-2000]|    4    |\n",
    "| (500-1000] |    3    |\n",
    "| (250-500]  |    2    |\n",
    "| (0, 250]   |    1    |\n"
   ]
  },
  {
   "cell_type": "code",
   "execution_count": 83,
   "id": "221339b4",
   "metadata": {},
   "outputs": [],
   "source": [
    "def r_score(x):\n",
    "    if x <= 14:\n",
    "        return 5\n",
    "    elif x <= 30:\n",
    "        return 4\n",
    "    elif x <= 60:\n",
    "        return 3\n",
    "    elif x <= 180:\n",
    "        return 2\n",
    "    else:\n",
    "        return 1\n",
    "\n",
    "def f_score(x):\n",
    "    if x <= 1:\n",
    "        return 1\n",
    "    elif x <= 2:\n",
    "        return 2\n",
    "    elif x <= 4:\n",
    "        return 3\n",
    "    elif x <= 6:\n",
    "        return 4\n",
    "    else:\n",
    "        return 5\n",
    "\n",
    "def m_score(x):\n",
    "    if x <= 250:\n",
    "        return 1\n",
    "    elif x <= 500:\n",
    "        return 2\n",
    "    elif x <= 1000:\n",
    "        return 3\n",
    "    elif x <= 2000:\n",
    "        return 4\n",
    "    else:\n",
    "        return 5   "
   ]
  },
  {
   "cell_type": "code",
   "execution_count": 84,
   "id": "38dc487c",
   "metadata": {},
   "outputs": [],
   "source": [
    "rfm['R_score'] = rfm['recency'].apply(r_score)\n",
    "rfm['F_score'] = rfm['frequency'].apply(f_score)\n",
    "rfm['M_score'] = rfm['monetary'].apply(m_score)\n",
    "rfm['RFM_score'] = rfm['R_score'] * 100 + rfm['F_score'] * 10 + rfm['M_score']"
   ]
  },
  {
   "cell_type": "code",
   "execution_count": null,
   "id": "cb01e3d7",
   "metadata": {},
   "outputs": [],
   "source": [
    "# Take a peak of our RFM table by CustomerID\n",
    "rfm.head()"
   ]
  },
  {
   "cell_type": "code",
   "execution_count": 86,
   "id": "ef6afea0",
   "metadata": {},
   "outputs": [],
   "source": [
    "# Convert the RFM_score into string\n",
    "rfm['RFM_score'] = rfm['RFM_score'].astype('str')"
   ]
  },
  {
   "cell_type": "code",
   "execution_count": null,
   "id": "ddad072c",
   "metadata": {},
   "outputs": [],
   "source": [
    "# F-R plot: Count the number of users in each F-R pair.\n",
    "rfm_count = pd.pivot_table(rfm, values='RFM_score', index= ['F_score'],\n",
    "                    columns=['R_score'], aggfunc='size', fill_value=0)\n",
    "rfm_count"
   ]
  },
  {
   "cell_type": "code",
   "execution_count": null,
   "id": "4471a2fc",
   "metadata": {},
   "outputs": [],
   "source": [
    "# F-R plot: Find the monetary median of users in each F-R pair.\n",
    "rfm_median = pd.pivot_table(rfm, values='monetary', index= ['F_score'],\n",
    "                    columns=['R_score'], aggfunc='median', fill_value=0).round(2)\n",
    "rfm_median"
   ]
  },
  {
   "cell_type": "code",
   "execution_count": null,
   "id": "1e553017",
   "metadata": {},
   "outputs": [],
   "source": [
    "# F-R plot: Find the monetary mean of users in each F-R pair.\n",
    "rfm_mean = pd.pivot_table(rfm, values='monetary', index= ['F_score'],\n",
    "                    columns=['R_score'], aggfunc='mean', fill_value=0).round(2)\n",
    "rfm_mean"
   ]
  },
  {
   "cell_type": "code",
   "execution_count": null,
   "id": "39d444bf",
   "metadata": {},
   "outputs": [],
   "source": [
    "# F-R plot: Find the monetary sum of users in each F-R pair.\n",
    "rfm_sum = pd.pivot_table(rfm, values='monetary', index= ['F_score'],\n",
    "                    columns=['R_score'], aggfunc='sum', fill_value=0).round(0).astype(int)\n",
    "rfm_sum"
   ]
  },
  {
   "cell_type": "code",
   "execution_count": null,
   "id": "f8f8a33f",
   "metadata": {},
   "outputs": [],
   "source": [
    "# See the RFM scores, and monetary metrics from all 5x5x5 RFM groups\n",
    "rfm_agg = rfm.groupby('RFM_score').agg({'RFM_score':'size', 'monetary': ['sum', 'mean','median']}).round(2).astype(int)\n",
    "rfm_agg"
   ]
  },
  {
   "cell_type": "code",
   "execution_count": 92,
   "id": "89e8438e",
   "metadata": {},
   "outputs": [],
   "source": [
    "def heatmap(data, ax = None):\n",
    "    \n",
    "    # A `matplotlib.axes.Axes` instance to which the heatmap is plotted.  \n",
    "    # If not provided, use current axes or create a new one.\n",
    "    if not ax:\n",
    "        ax = plt.gca()\n",
    "        \n",
    "    im = ax.imshow(data, cmap=\"YlGn\")\n",
    "    \n",
    "    # Show all ticks\n",
    "    ax.set_xticks(np.arange(5))\n",
    "    ax.set_yticks(np.arange(5))\n",
    "    # label all ticks with the respective list entries\n",
    "    ax.set_xticklabels(data.columns)\n",
    "    ax.set_yticklabels(data.index)\n",
    "\n",
    "    # Create colorbar\n",
    "    cbar = ax.figure.colorbar(im, ax=ax)\n",
    "\n",
    "    # Let the horizontal axes labeling appear on top.\n",
    "    ax.tick_params(top=True, bottom=False,\n",
    "                   labeltop=True, labelbottom=False)\n",
    "\n",
    "    # Normalize the threshold to the images color range.\n",
    "    threshold = im.norm(data.max().max())/2.\n",
    "    textcolors=(\"black\", \"white\")\n",
    "\n",
    "    # Loop over data dimensions and create text annotations.\n",
    "    for i in range(5):\n",
    "        for j in range(5):\n",
    "            text = ax.text(j, i, data.iloc[i, j],\n",
    "                           ha=\"center\", va=\"center\", color=textcolors[int(im.norm(data.iloc[i, j]) > threshold)])\n",
    "\n",
    "    # ax.set_title(\"RFM Customer Group Counts\")\n",
    "    plt.xlabel(\"R Score\")\n",
    "    plt.ylabel(\"F Score\")\n",
    "    \n",
    "    return im"
   ]
  },
  {
   "cell_type": "code",
   "execution_count": null,
   "id": "117dc2c7",
   "metadata": {},
   "outputs": [],
   "source": [
    "fig, ax = plt.subplots(figsize=(5, 4), dpi=120)\n",
    "heatmap(rfm_count, ax = ax)\n",
    "fig.tight_layout()\n",
    "plt.show()"
   ]
  },
  {
   "cell_type": "code",
   "execution_count": null,
   "id": "7d4909e6",
   "metadata": {},
   "outputs": [],
   "source": [
    "fig, ax = plt.subplots(figsize=(5, 4), dpi=120)\n",
    "heatmap(rfm_median, ax = ax)\n",
    "fig.tight_layout()\n",
    "plt.show()"
   ]
  },
  {
   "cell_type": "code",
   "execution_count": null,
   "id": "a45fd40b",
   "metadata": {},
   "outputs": [],
   "source": [
    "fig, ax = plt.subplots(figsize=(5, 4), dpi=120)\n",
    "heatmap(rfm_mean, ax = ax)\n",
    "fig.tight_layout()\n",
    "plt.show()"
   ]
  },
  {
   "cell_type": "code",
   "execution_count": null,
   "id": "f57511f7",
   "metadata": {},
   "outputs": [],
   "source": [
    "fig, ax = plt.subplots(figsize=(5, 4), dpi=120)\n",
    "heatmap(rfm_sum, ax = ax)\n",
    "fig.tight_layout()\n",
    "plt.show()"
   ]
  },
  {
   "cell_type": "code",
   "execution_count": 97,
   "id": "ef18ef2c",
   "metadata": {},
   "outputs": [],
   "source": [
    "segmentation = {\n",
    "    r'[2-5][4-5]': 'VIPs',\n",
    "    r'[2-5]3': 'Potential loyalists',\n",
    "    r'[1-5]2': 'Need to focus',\n",
    "    r'1[3-5]': 'Good old frends',\n",
    "    r'[4-5]1': 'New customers',\n",
    "    r'[1-3]1': 'Hibernating',\n",
    "}"
   ]
  },
  {
   "cell_type": "code",
   "execution_count": 98,
   "id": "598f446e",
   "metadata": {},
   "outputs": [],
   "source": [
    "rfm['Segment'] = rfm['R_score'] * 10 + rfm['F_score']\n",
    "rfm['Segment'] = rfm['Segment'].astype(str)"
   ]
  },
  {
   "cell_type": "code",
   "execution_count": null,
   "id": "48ed06a6",
   "metadata": {},
   "outputs": [],
   "source": [
    "rfm['Segment'] = rfm['Segment'].replace(segmentation, regex=True)\n",
    "rfm.head()"
   ]
  },
  {
   "cell_type": "code",
   "execution_count": null,
   "id": "8546795e",
   "metadata": {},
   "outputs": [],
   "source": [
    "rfm_segment = rfm.groupby('Segment').agg({'recency': ['mean', 'median'], \n",
    "                                          'frequency': ['mean', 'median'], \n",
    "                                          'monetary': ['mean', 'median', 'sum', 'count']}).round(0).astype(int)\n",
    "rfm_segment"
   ]
  },
  {
   "cell_type": "code",
   "execution_count": null,
   "id": "7254c888",
   "metadata": {},
   "outputs": [],
   "source": [
    "segment_counts = rfm_segment['monetary']['count'].sort_values(ascending = True)\n",
    "segment_counts"
   ]
  },
  {
   "cell_type": "code",
   "execution_count": null,
   "id": "c45c9863",
   "metadata": {},
   "outputs": [],
   "source": [
    "segment_monetary_sum = rfm_segment['monetary']['sum'].sort_values(ascending = True)\n",
    "segment_monetary_sum"
   ]
  },
  {
   "cell_type": "code",
   "execution_count": 103,
   "id": "0ce1dd98",
   "metadata": {},
   "outputs": [],
   "source": [
    "def hbar(data):\n",
    "    \n",
    "    num_of_segment = len(data)\n",
    "    \n",
    "    ax.set_frame_on(False)\n",
    "    ax.set_yticks(range(num_of_segment))\n",
    "    ax.set_yticklabels(data.index)\n",
    "\n",
    "    bars = ax.barh(range(num_of_segment), data, color='silver')\n",
    "\n",
    "    for i, bar in enumerate(bars):\n",
    "            value = bar.get_width()\n",
    "            if data.index[i] in ['VIPs']:\n",
    "                bar.set_color('firebrick')\n",
    "            ax.text(value,\n",
    "                    bar.get_y() + bar.get_height()/2,\n",
    "                    '{:,} ({:}%)'.format(int(value),int(value*100/data.sum())),\n",
    "                    va='center',\n",
    "                    ha='left')"
   ]
  },
  {
   "cell_type": "code",
   "execution_count": null,
   "id": "a579f1c0",
   "metadata": {},
   "outputs": [],
   "source": [
    "fig, ax = plt.subplots()\n",
    "hbar(segment_counts)\n",
    "plt.show()"
   ]
  },
  {
   "cell_type": "code",
   "execution_count": null,
   "id": "c90e5c06",
   "metadata": {},
   "outputs": [],
   "source": [
    "fig, ax = plt.subplots()\n",
    "hbar(segment_monetary_sum)\n",
    "plt.show()"
   ]
  },
  {
   "cell_type": "markdown",
   "id": "bcd57dca",
   "metadata": {},
   "source": []
  },
  {
   "cell_type": "markdown",
   "id": "d39ef9e0",
   "metadata": {},
   "source": [
    "#### Calucalate Silhoutte Score"
   ]
  },
  {
   "cell_type": "code",
   "execution_count": 111,
   "id": "3ec130de",
   "metadata": {},
   "outputs": [
    {
     "name": "stdout",
     "output_type": "stream",
     "text": [
      "Silhoutte Score for RFM: -0.11443209777837651\n"
     ]
    }
   ],
   "source": [
    "# Define x\n",
    "x = rfm[['recency', 'frequency', 'monetary']]\n",
    "# Scale\n",
    "scaler = StandardScaler()\n",
    "# Data Scale\n",
    "x_scaled = scaler.fit_transform(x)\n",
    "# Calculate Silhoutte Score\n",
    "labels = rfm['RFM_Score']\n",
    "silhoutte_value = silhouette_score(x_scaled, labels)\n",
    "print('Silhoutte Score for RFM:', silhoutte_value)"
   ]
  },
  {
   "cell_type": "markdown",
   "id": "f77eceb2",
   "metadata": {},
   "source": []
  },
  {
   "cell_type": "code",
   "execution_count": 116,
   "id": "072ce9f7",
   "metadata": {},
   "outputs": [],
   "source": [
    "# Scale\n",
    "scaler = StandardScaler()\n",
    "\n",
    "# Data Scale\n",
    "x_scaled = scaler.fit_transform(x)"
   ]
  },
  {
   "cell_type": "code",
   "execution_count": 119,
   "id": "ad694cb9",
   "metadata": {},
   "outputs": [],
   "source": [
    "score = []\n",
    "number_of_clusters = range(2,9)\n",
    "\n",
    "for i in number_of_clusters:\n",
    "  kmeans = KMeans(i)\n",
    "  kmeans.fit(x_scaled)\n",
    "\n",
    "  label = kmeans.labels_\n",
    "  score.append(silhouette_score(x_scaled, label, metric = 'euclidean'))"
   ]
  },
  {
   "cell_type": "code",
   "execution_count": null,
   "id": "f3f9ff29",
   "metadata": {},
   "outputs": [],
   "source": [
    "for i in range(len(score)):\n",
    "  print(f'Silhouette Score for {i+2} Clusters:', round(score[i], 3))"
   ]
  },
  {
   "cell_type": "code",
   "execution_count": null,
   "id": "47e3c036",
   "metadata": {},
   "outputs": [],
   "source": [
    "plt.figure(figsize = (12, 7))\n",
    "\n",
    "sns.lineplot(number_of_clusters, score)\n",
    "sns.scatterplot(number_of_clusters, score)\n",
    "\n",
    "plt.xlabel(\"Number Of Cluster\")\n",
    "plt.ylabel('Silhoutte Score')"
   ]
  },
  {
   "cell_type": "code",
   "execution_count": 122,
   "id": "50157728",
   "metadata": {},
   "outputs": [],
   "source": [
    "kmeans = KMeans(n_clusters=5, random_state=10)\n",
    "kmeans.fit(x_scaled)\n",
    "\n",
    "rfm['label k-means'] = kmeans.labels_"
   ]
  },
  {
   "cell_type": "code",
   "execution_count": null,
   "id": "e8aa805e",
   "metadata": {},
   "outputs": [],
   "source": [
    "label = rfm['label k-means']\n",
    "score = silhouette_score(x_scaled, label, metric = 'euclidean')\n",
    "score"
   ]
  },
  {
   "cell_type": "code",
   "execution_count": 124,
   "id": "c385625e",
   "metadata": {},
   "outputs": [],
   "source": [
    "def label(x):\n",
    "  if x == 0:\n",
    "    return 'New Customer'\n",
    "  elif x == 1:\n",
    "    return 'Hibernating'\n",
    "  elif x == 2:\n",
    "    return 'Need to focus'\n",
    "  elif x == 3:\n",
    "    return 'Potential loyalists'\n",
    "  else:\n",
    "    return 'VIP'\n",
    "\n",
    "rfm['label k-means'] = rfm['label k-means'].apply(label)\n"
   ]
  },
  {
   "cell_type": "code",
   "execution_count": null,
   "id": "29cb3995",
   "metadata": {},
   "outputs": [],
   "source": [
    "#Number of customers in each segment\n",
    "rfm['label k-means'].value_counts()"
   ]
  },
  {
   "cell_type": "code",
   "execution_count": null,
   "id": "dad87147",
   "metadata": {},
   "outputs": [],
   "source": [
    "## Visualisation\n",
    "plt.figure(figsize = (6,4))\n",
    "sns.countplot(x='label k-means', data = rfm)\n",
    "plt.show()"
   ]
  },
  {
   "cell_type": "code",
   "execution_count": null,
   "id": "91edb409",
   "metadata": {},
   "outputs": [],
   "source": [
    "plt.figure(figsize =(18,5))\n",
    "\n",
    "# Recency vs Frequency\n",
    "plt.subplot(131)\n",
    "sns.scatterplot(x = 'recency', y = 'frequency', hue = 'label k-means', data = rfm)\n",
    "plt.title('Recency Vs Frequency')\n",
    "\n",
    "# Recency Vs Monetary\n",
    "plt.subplot(132)\n",
    "sns.scatterplot(x = 'recency', y = 'monetary', hue = 'label k-means', data = rfm)\n",
    "plt.title('Recency Vs Monetary')\n",
    "\n",
    "# Frequency Vs Monetary\n",
    "plt.subplot(133)\n",
    "sns.scatterplot(x = 'frequency', y = 'monetary', hue = 'label k-means', data = rfm)\n",
    "plt.title('Frequency Vs Monetary')\n",
    "\n",
    "plt.suptitle('Model 2D Plot')\n",
    "plt.show()"
   ]
  },
  {
   "cell_type": "markdown",
   "id": "20c0cea1",
   "metadata": {},
   "source": [
    "## Gaussian:\n"
   ]
  },
  {
   "cell_type": "code",
   "execution_count": 128,
   "id": "2be08ba0",
   "metadata": {},
   "outputs": [],
   "source": [
    "rfm = rfm[['recency', 'frequency', 'monetary']]"
   ]
  },
  {
   "cell_type": "code",
   "execution_count": 129,
   "id": "f4792c32",
   "metadata": {},
   "outputs": [],
   "source": [
    "score2 = []\n",
    "number_of_clusters = range(2,9)\n",
    "\n",
    "for i in number_of_clusters:\n",
    "  gsm = GaussianMixture(n_components=i)\n",
    "  gsm.fit(x)\n",
    "\n",
    "  label = gsm.predict(x)\n",
    "  score2.append(silhouette_score(x_scaled, label, metric = 'euclidean'))"
   ]
  },
  {
   "cell_type": "code",
   "execution_count": null,
   "id": "c4627a8f",
   "metadata": {},
   "outputs": [],
   "source": [
    "for i in range(len(score2)):\n",
    "  print(f'Silhouette Score for {i+2} Clusters', round(score2[i], 3))"
   ]
  },
  {
   "cell_type": "code",
   "execution_count": null,
   "id": "26e48f26",
   "metadata": {},
   "outputs": [],
   "source": [
    "plt.figure(figsize = (12, 7))\n",
    "\n",
    "sns.lineplot(number_of_clusters, score2)\n",
    "sns.scatterplot(number_of_clusters, score2)\n",
    "\n",
    "plt.xlabel(\"Number Of Cluster\")\n",
    "plt.ylabel('Silhoutte Score')"
   ]
  },
  {
   "cell_type": "code",
   "execution_count": 132,
   "id": "52205006",
   "metadata": {},
   "outputs": [],
   "source": [
    "gsm = GaussianMixture(n_components=3)\n",
    "gsm.fit(x)\n",
    "\n",
    "rfm['label gaussian'] = gsm.predict(x)"
   ]
  },
  {
   "cell_type": "code",
   "execution_count": null,
   "id": "61283599",
   "metadata": {},
   "outputs": [],
   "source": [
    "rfm['label gaussian'].value_counts()"
   ]
  },
  {
   "cell_type": "code",
   "execution_count": null,
   "id": "5cbcdaef",
   "metadata": {},
   "outputs": [],
   "source": [
    "## Visualisation\n",
    "plt.figure(figsize = (6,4))\n",
    "sns.countplot(x='label gaussian', data = rfm)\n",
    "plt.show()"
   ]
  },
  {
   "cell_type": "code",
   "execution_count": null,
   "id": "3fdf300c",
   "metadata": {},
   "outputs": [],
   "source": [
    "plt.figure(figsize =(18,5))\n",
    "\n",
    "# Recency vs Frequency\n",
    "plt.subplot(131)\n",
    "sns.scatterplot(x = 'recency', y = 'frequency', hue = 'label gaussian', data = rfm)\n",
    "plt.title('Recency Vs Frequency')\n",
    "\n",
    "# Recency Vs Monetary\n",
    "plt.subplot(132)\n",
    "sns.scatterplot(x = 'recency', y = 'monetary', hue = 'label gaussian', data = rfm)\n",
    "plt.title('Recency Vs Monetary')\n",
    "\n",
    "# Frequency Vs Monetary\n",
    "plt.subplot(133)\n",
    "sns.scatterplot(x = 'frequency', y = 'monetary', hue = 'label gaussian', data = rfm)\n",
    "plt.title('Frequency Vs Monetary')\n",
    "\n",
    "plt.suptitle('Model 2D Plot')\n",
    "plt.show()"
   ]
  },
  {
   "cell_type": "code",
   "outputs": [],
   "source": [
    "from sklearn.cluster import DBSCAN\n",
    "eps = 0.5\n",
    "min_samples = 3\n",
    "\n",
    "# Scaling\n",
    "scaler = StandardScaler()\n",
    "x_scaled = scaler.fit_transform(x)\n",
    "\n",
    "# DBSCAN\n",
    "db = DBSCAN(eps=eps, min_samples=min_samples)\n",
    "db.fit(x_scaled)\n",
    "\n",
    "# Label\n",
    "rfm['label DBSCAN'] = db.labels_\n",
    "\n",
    "# Check Silhouette Score\n",
    "score = silhouette_score(x_scaled, rfm['label DBSCAN'], metric = 'euclidean')\n",
    "print('Silhouette Score for DBSCAN:', score)\n",
    "\n",
    "# Number of Clusters\n",
    "print('Number of Clusters:', len(np.unique(rfm['label DBSCAN'])))\n",
    "\n",
    "# Visualize\n",
    "plt.figure(figsize=(12, 7))\n",
    "\n",
    "sns.scatterplot(x=rfm['recency'], y=rfm['frequency'], hue=rfm['label DBSCAN'])\n",
    "plt.xlabel(\"Recency\")\n",
    "plt.ylabel('Frequency')\n",
    "plt.title('DBSCAN Model 2D Plot')\n",
    "plt.show()\n"
   ],
   "metadata": {
    "collapsed": false
   },
   "id": "fb4528c1824b669e"
  },
  {
   "cell_type": "code",
   "outputs": [],
   "source": [
    "# Group by label\n",
    "rfm_db = rfm.groupby('label DBSCAN')\n",
    "\n",
    "# Calculate mean and std for each group\n",
    "rfm_db_mean = rfm_db.mean()\n",
    "rfm_db_std = rfm_db.std()\n",
    "\n",
    "# Observation\n",
    "# - Group 0: These customers are new to the business and have only made one purchase. They are likely to be in the early stages of the customer lifecycle and are worth further nurturing.\n",
    "# - Group 1: These customers are regular customers who make multiple purchases over time. They are likely to be loyal customers and are worth retaining.\n",
    "# - Group 2: These customers are infrequent customers who have made a few purchases over time. They are likely to be less engaged with the business and are worth targeting with promotional activities.\n",
    "# - Group 3: These customers are inactive customers who have not made a purchase in a long time. They are likely to be lost customers and are worth re-engaging with.\n",
    "# We can use this information to develop targeted marketing campaigns for each group of customers."
   ],
   "metadata": {
    "collapsed": false
   },
   "id": "51f6bf09610743b3"
  },
  {
   "cell_type": "code",
   "outputs": [],
   "source": [
    "# Import the necessary libraries\n",
    "from sklearn.neighbors import KNeighborsClassifier\n",
    "from sklearn.model_selection import train_test_split\n",
    "from sklearn.metrics import accuracy_score\n",
    "\n",
    "# Split the data into training and testing sets\n",
    "X_train, X_test, y_train, y_test = train_test_split(x_scaled, rfm['label k-means'], test_size=0.25, random_state=10)\n",
    "\n",
    "# Create the KNN model\n",
    "knn = KNeighborsClassifier(n_neighbors=5)\n",
    "\n",
    "# Train the model\n",
    "knn.fit(X_train, y_train)\n",
    "\n",
    "# Predict the labels for the test set\n",
    "y_pred = knn.predict(X_test)\n",
    "\n",
    "# Evaluate the model\n",
    "accuracy = accuracy_score(y_test, y_pred)\n",
    "print('Accuracy:', accuracy)\n"
   ],
   "metadata": {
    "collapsed": false
   },
   "id": "2a540ff472eb55f3"
  },
  {
   "cell_type": "code",
   "outputs": [],
   "source": [
    "from sklearn import svm\n",
    "# Create a support vector machine classifier\n",
    "svm_classifier = svm.LinearSVC()\n",
    "\n",
    "# Train the classifier on the training data\n",
    "svm_classifier.fit(X_train, y_train)\n",
    "\n",
    "# Predict the labels for the test data\n",
    "y_pred = svm_classifier.predict(X_test)\n",
    "\n",
    "# Evaluate the performance of the classifier\n",
    "accuracy = accuracy_score(y_test, y_pred)\n",
    "print('Accuracy:', accuracy)\n"
   ],
   "metadata": {
    "collapsed": false
   },
   "id": "de83f817e7c22815"
  },
  {
   "cell_type": "code",
   "outputs": [],
   "source": [
    "df1.info()"
   ],
   "metadata": {
    "collapsed": false
   },
   "id": "320886f8d445b46d"
  },
  {
   "cell_type": "code",
   "outputs": [],
   "source": [
    "df1.head(5)"
   ],
   "metadata": {
    "collapsed": false
   },
   "id": "cf20cb933782a91"
  },
  {
   "cell_type": "code",
   "outputs": [],
   "source": [
    "X = df1[['monetary']]\n",
    "y = df1['frequency']"
   ],
   "metadata": {
    "collapsed": false
   },
   "id": "366a857ee37356a1"
  },
  {
   "cell_type": "code",
   "outputs": [],
   "source": [
    "X_train, X_test, y_train, y_test = train_test_split(X, y, test_size=0.2, random_state=42)"
   ],
   "metadata": {
    "collapsed": false
   },
   "id": "91aade735a8597fe"
  },
  {
   "cell_type": "code",
   "outputs": [],
   "source": [
    "model = LinearRegression()\n",
    "\n",
    "model.fit(X_train, y_train)"
   ],
   "metadata": {
    "collapsed": false
   },
   "id": "c54989cba4e4d0e1"
  },
  {
   "cell_type": "code",
   "outputs": [],
   "source": [
    "y_pred = model.predict(X_test)"
   ],
   "metadata": {
    "collapsed": false
   },
   "id": "306ea17f6b62a437"
  },
  {
   "cell_type": "code",
   "outputs": [],
   "source": [
    "import sklearn.metrics\n",
    "\n",
    "mse = sklearn.metrics.mean_squared_error(y_test, y_pred)\n",
    "r2 = sklearn.metrics.r2_score(y_test, y_pred)\n",
    "\n",
    "print(f'Mean Squared Error: {mse}')\n",
    "print(f'R-squared: {r2}')"
   ],
   "metadata": {
    "collapsed": false
   },
   "id": "a0d7b07eec7ba129"
  },
  {
   "cell_type": "code",
   "outputs": [],
   "source": [
    "plt.scatter(X_test, y_test, color='black')\n",
    "plt.plot(X_test, y_pred, color='blue', linewidth=3)\n",
    "plt.xlabel('Independent Variable')\n",
    "plt.ylabel('Dependent Variable')\n",
    "plt.title('Linear Regression Model')\n",
    "plt.show()"
   ],
   "metadata": {
    "collapsed": false
   },
   "id": "4841f3ca391d3550"
  },
  {
   "cell_type": "markdown",
   "id": "df8bb7de",
   "metadata": {},
   "source": []
  },
  {
   "cell_type": "markdown",
   "id": "b34e688a",
   "metadata": {},
   "source": []
  },
  {
   "cell_type": "markdown",
   "id": "41f16563",
   "metadata": {},
   "source": []
  },
  {
   "cell_type": "markdown",
   "id": "5006445b",
   "metadata": {},
   "source": []
  },
  {
   "cell_type": "markdown",
   "id": "49754000",
   "metadata": {},
   "source": []
  },
  {
   "cell_type": "markdown",
   "id": "1d998fc4",
   "metadata": {},
   "source": []
  },
  {
   "cell_type": "markdown",
   "id": "91319d82",
   "metadata": {},
   "source": []
  },
  {
   "cell_type": "markdown",
   "id": "b40360a5",
   "metadata": {},
   "source": []
  },
  {
   "cell_type": "markdown",
   "id": "f3cdbde0",
   "metadata": {},
   "source": []
  }
 ],
 "metadata": {
  "kernelspec": {
   "display_name": "Python 3",
   "language": "python",
   "name": "python3"
  },
  "language_info": {
   "codemirror_mode": {
    "name": "ipython",
    "version": 3
   },
   "file_extension": ".py",
   "mimetype": "text/x-python",
   "name": "python",
   "nbconvert_exporter": "python",
   "pygments_lexer": "ipython3",
   "version": "3.8.8"
  }
 },
 "nbformat": 4,
 "nbformat_minor": 5
}
